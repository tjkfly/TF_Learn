{
 "cells": [
  {
   "cell_type": "code",
   "execution_count": 1,
   "metadata": {},
   "outputs": [
    {
     "name": "stdout",
     "output_type": "stream",
     "text": [
      "input:93python\n",
      "93python22\n",
      "93python22\n",
      "93python22\n",
      "p\n",
      "y\n",
      "t\n",
      "h\n",
      "o\n",
      "n\n",
      "93python22\n"
     ]
    }
   ],
   "source": [
    "w = input('input:')\n",
    "b = '93python22'\n",
    "print(b)\n",
    "for step,x in enumerate(w):\n",
    "    if '0'<= x <='9':\n",
    "        print(b)\n",
    "        continue\n",
    "    else:\n",
    "        w.replace(x,'')\n",
    "        print(b[step])\n",
    "        b.replace(b[step],'')\n",
    "print(b)\n"
   ]
  },
  {
   "cell_type": "code",
   "execution_count": null,
   "metadata": {},
   "outputs": [],
   "source": []
  }
 ],
 "metadata": {
  "kernelspec": {
   "display_name": "Python 3",
   "language": "python",
   "name": "python3"
  },
  "language_info": {
   "codemirror_mode": {
    "name": "ipython",
    "version": 3
   },
   "file_extension": ".py",
   "mimetype": "text/x-python",
   "name": "python",
   "nbconvert_exporter": "python",
   "pygments_lexer": "ipython3",
   "version": "3.7.6"
  }
 },
 "nbformat": 4,
 "nbformat_minor": 4
}
