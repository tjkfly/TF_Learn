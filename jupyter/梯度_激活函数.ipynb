{
 "cells": [
  {
   "cell_type": "code",
   "execution_count": 17,
   "metadata": {},
   "outputs": [],
   "source": [
    "import tensorflow as tf\n",
    "import matplotlib.pyplot as plt\n",
    "import numpy as np"
   ]
  },
  {
   "cell_type": "code",
   "execution_count": 6,
   "metadata": {},
   "outputs": [],
   "source": [
    "w = tf.constant(1.)\n",
    "x = tf.constant(2.)\n",
    "y = x * w"
   ]
  },
  {
   "cell_type": "code",
   "execution_count": 7,
   "metadata": {},
   "outputs": [
    {
     "data": {
      "text/plain": [
       "[<tf.Tensor: shape=(), dtype=float32, numpy=2.0>]"
      ]
     },
     "execution_count": 7,
     "metadata": {},
     "output_type": "execute_result"
    }
   ],
   "source": [
    "with tf.GradientTape() as tape:\n",
    "    tape.watch([w])\n",
    "    y2 = x * w\n",
    "grade = tape.gradient(y2,[w])\n",
    "grade"
   ]
  },
  {
   "cell_type": "code",
   "execution_count": 9,
   "metadata": {},
   "outputs": [
    {
     "name": "stdout",
     "output_type": "stream",
     "text": [
      "tf.Tensor(2.0, shape=(), dtype=float32)\n",
      "tf.Tensor(1.0, shape=(), dtype=float32)\n",
      "tf.Tensor(2.0, shape=(), dtype=float32)\n"
     ]
    }
   ],
   "source": [
    "w = tf.Variable(1.0)\n",
    "x = tf.Variable(2.0)\n",
    "b = tf.Variable(3.0)\n",
    "with tf.GradientTape() as tape1:\n",
    "    with tf.GradientTape() as tape2:\n",
    "        y = w * x + b\n",
    "    dy_dw,dy_db = tape2.gradient(y,[w,b])\n",
    "dy2_dw,dy2_db = tape1.gradient(y,[w,b])\n",
    "print(dy_dw)\n",
    "print(dy_db)\n",
    "print(dy2_dw)"
   ]
  },
  {
   "cell_type": "markdown",
   "metadata": {},
   "source": [
    "## 激活函数及其梯度"
   ]
  },
  {
   "cell_type": "markdown",
   "metadata": {},
   "source": [
    "##  为什么要使用激活函数\n",
    "1. 一个没有激活函数的神经网络只不过是一个线性回归模型，无法表达复杂的数据分布。                                                 \n",
    "2. 加入激活函数相当于加入非线性因素，解决的线性模型无法解决的问题。\n",
    "\n",
    "##  激活函数的一般性质\n",
    "1. 单调可微\n",
    "2. 限制输出值的范围\n",
    "3. 非线性"
   ]
  },
  {
   "cell_type": "markdown",
   "metadata": {},
   "source": [
    "##  常用激活函数"
   ]
  },
  {
   "cell_type": "markdown",
   "metadata": {},
   "source": [
    "### 1 Sigmoid 函数\n",
    "$$ y = \\frac{ 1 }{ 1 + e^{-ax} } $$\n",
    "\n",
    "#### 一阶导数\n",
    "$$ y^1= \\frac{ 1 }{1 + e^{-ax}}（1- \\frac{ 1 }{1 + e^{-ax}}） $$\n",
    "#### 优点：\n",
    "1. 输出映射在【0，1】，单调连续，优化稳定\n",
    "2. 易于求导\n",
    "3. 输出值为独立概率，可以用在输出层\n",
    "#### 缺点：\n",
    "1. 容易饱和，导致梯度消失\n",
    "2. 数据分布不均匀\n"
   ]
  },
  {
   "cell_type": "code",
   "execution_count": 32,
   "metadata": {},
   "outputs": [
    {
     "data": {
      "text/plain": [
       "[<matplotlib.lines.Line2D at 0x7f19ac3945d0>]"
      ]
     },
     "execution_count": 32,
     "metadata": {},
     "output_type": "execute_result"
    },
    {
     "data": {
      "image/png": "[encoded data removed]",
      "text/plain": [
       "<Figure size 432x288 with 1 Axes>"
      ]
     },
     "metadata": {
      "needs_background": "light"
     },
     "output_type": "display_data"
    }
   ],
   "source": [
    "#图像,a = 1\n",
    "x =np.arange(-5,5,0.1)\n",
    "# x = np.linspace(-3,3,100)\n",
    "y = 1/(1 + np.exp(-x))\n",
    "plt.plot(x,y)\n"
   ]
  },
  {
   "cell_type": "markdown",
   "metadata": {},
   "source": [
    " "
   ]
  },
  {
   "cell_type": "code",
   "execution_count": 34,
   "metadata": {},
   "outputs": [
    {
     "data": {
      "text/plain": [
       "<tf.Tensor: shape=(10,), dtype=float32, numpy=\n",
       "array([0.00669285, 0.02005754, 0.05853691, 0.15886913, 0.36457652,\n",
       "       0.63542366, 0.8411309 , 0.9414632 , 0.97994244, 0.9933072 ],\n",
       "      dtype=float32)>"
      ]
     },
     "execution_count": 34,
     "metadata": {},
     "output_type": "execute_result"
    }
   ],
   "source": [
    "a = tf.linspace(-5.,5.,10)\n",
    "tf.sigmoid(a)"
   ]
  },
  {
   "cell_type": "markdown",
   "metadata": {},
   "source": [
    "### 2 Tanh 函数\n",
    "$$ y = tanh(x) = \\frac {(e^{x} - e^{-x})}{(e^{x} + e^{-x})}$$\n",
    "\n",
    "#### 一阶导数\n",
    "$$ y = 1 - tanh^2(x) $$\n",
    "\n",
    "#### 优点\n",
    "1. 比sigmoid 收敛更快，更易于训练\n",
    "2. 输出以0为中心，数据分布均匀\n",
    "\n",
    "#### 缺点\n",
    "还是会有梯度消失"
   ]
  },
  {
   "cell_type": "code",
   "execution_count": 36,
   "metadata": {},
   "outputs": [
    {
     "data": {
      "text/plain": [
       "[<matplotlib.lines.Line2D at 0x7f19ace65610>]"
      ]
     },
     "execution_count": 36,
     "metadata": {},
     "output_type": "execute_result"
    },
    {
     "data": {
      "image/png": "[encoded data removed]",
      "text/plain": [
       "<Figure size 432x288 with 1 Axes>"
      ]
     },
     "metadata": {
      "needs_background": "light"
     },
     "output_type": "display_data"
    }
   ],
   "source": [
    "## 图像\n",
    "x = np.arange(-5,5,0.1)\n",
    "y = (np.exp(x)-np.exp(-x)) / (np.exp(x)+ np.exp(-x))\n",
    "plt.plot(x,y)"
   ]
  },
  {
   "cell_type": "code",
   "execution_count": 38,
   "metadata": {},
   "outputs": [
    {
     "data": {
      "text/plain": [
       "<tf.Tensor: shape=(10,), dtype=float32, numpy=\n",
       "array([-0.99990916, -0.9991625 , -0.99229795, -0.9311096 , -0.5046722 ,\n",
       "        0.5046726 ,  0.93110967,  0.99229795,  0.9991625 ,  0.99990916],\n",
       "      dtype=float32)>"
      ]
     },
     "execution_count": 38,
     "metadata": {},
     "output_type": "execute_result"
    }
   ],
   "source": [
    "a = tf.linspace(-5.,5.,10)\n",
    "tf.tanh(a)"
   ]
  },
  {
   "cell_type": "markdown",
   "metadata": {},
   "source": [
    "###  3 . RELU 函数\n",
    " $$  y = \n",
    "     \\begin{cases}\n",
    "     0, & x<0 \\\\\n",
    "     x, & x \\ge 0\n",
    "     \\end{cases}\n",
    " $$\n",
    " \n",
    " #### 优点：\n",
    " 1. 单侧抑制，相对宽阔的兴奋边界，稀疏激活性\n",
    " 2. 收敛更快\n",
    " 3. 缓解梯度消失问题\n",
    " 4. 引入稀疏性，在无监督预训练时也能有较好的表现\n",
    "#### 缺点：\n",
    " 1. 神经元训练中不可逆死亡"
   ]
  },
  {
   "cell_type": "code",
   "execution_count": 44,
   "metadata": {},
   "outputs": [
    {
     "data": {
      "text/plain": [
       "[<matplotlib.lines.Line2D at 0x7f19a38c7090>]"
      ]
     },
     "execution_count": 44,
     "metadata": {},
     "output_type": "execute_result"
    },
    {
     "data": {
      "image/png": "[encoded data removed]",
      "text/plain": [
       "<Figure size 432x288 with 1 Axes>"
      ]
     },
     "metadata": {
      "needs_background": "light"
     },
     "output_type": "display_data"
    }
   ],
   "source": [
    "## 图像\n",
    "def relu(x):\n",
    "    return np.where(x<0 ,0,x) \n",
    "\n",
    "\n",
    "x = np.arange(-5,5,0.1)\n",
    "y = relu(x)\n",
    "plt.plot(x,y)"
   ]
  },
  {
   "cell_type": "code",
   "execution_count": 46,
   "metadata": {},
   "outputs": [
    {
     "data": {
      "text/plain": [
       "<tf.Tensor: shape=(10,), dtype=float32, numpy=\n",
       "array([0.       , 0.       , 0.       , 0.       , 0.       , 0.5555558,\n",
       "       1.666667 , 2.7777781, 3.8888893, 5.       ], dtype=float32)>"
      ]
     },
     "execution_count": 46,
     "metadata": {},
     "output_type": "execute_result"
    }
   ],
   "source": [
    "a = tf.linspace(-5.,5.,10)\n",
    "tf.nn.relu(a)"
   ]
  },
  {
   "cell_type": "code",
   "execution_count": null,
   "metadata": {},
   "outputs": [],
   "source": []
  }
 ],
 "metadata": {
  "kernelspec": {
   "display_name": "Python 3",
   "language": "python",
   "name": "python3"
  },
  "language_info": {
   "codemirror_mode": {
    "name": "ipython",
    "version": 3
   },
   "file_extension": ".py",
   "mimetype": "text/x-python",
   "name": "python",
   "nbconvert_exporter": "python",
   "pygments_lexer": "ipython3",
   "version": "3.7.6"
  }
 },
 "nbformat": 4,
 "nbformat_minor": 4
}
