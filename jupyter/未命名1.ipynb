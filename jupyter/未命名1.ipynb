{
 "cells": [
  {
   "cell_type": "code",
   "execution_count": 2,
   "metadata": {},
   "outputs": [],
   "source": [
    "import tensorflow as tf"
   ]
  },
  {
   "cell_type": "code",
   "execution_count": null,
   "metadata": {},
   "outputs": [],
   "source": []
  },
  {
   "cell_type": "code",
   "execution_count": 5,
   "metadata": {},
   "outputs": [
    {
     "data": {
      "text/plain": [
       "<tf.Tensor: shape=(4, 10), dtype=float32, numpy=\n",
       "array([[-0.5412048 , -1.7950851 , -0.16470711,  2.4088166 , -0.37288624,\n",
       "         0.9841076 ,  1.2573662 ,  0.42765796, -1.3114152 ,  1.2047246 ],\n",
       "       [-1.0516514 , -1.0939918 , -0.09387729,  0.3734461 , -1.775851  ,\n",
       "        -1.032675  , -1.1840972 ,  0.78496593,  1.286386  ,  1.1162314 ],\n",
       "       [ 0.08618467,  0.43365136,  0.30238888,  1.3305389 ,  0.74155784,\n",
       "         0.5271041 , -0.3836542 , -0.07762079, -0.5565869 , -0.41373122],\n",
       "       [ 0.26334056,  0.506959  ,  1.9352638 ,  0.5597864 ,  0.2986582 ,\n",
       "        -0.88362795, -0.9392414 , -1.1437284 ,  2.1286964 , -0.12298053]],\n",
       "      dtype=float32)>"
      ]
     },
     "execution_count": 5,
     "metadata": {},
     "output_type": "execute_result"
    }
   ],
   "source": [
    "a = tf.random.normal([4,10])\n",
    "a"
   ]
  },
  {
   "cell_type": "code",
   "execution_count": 9,
   "metadata": {},
   "outputs": [
    {
     "data": {
      "text/plain": [
       "<tf.Tensor: shape=(4, 10), dtype=float32, numpy=\n",
       "array([[0.02353001, 0.00671535, 0.03428727, 0.44957292, 0.02784338,\n",
       "        0.10815757, 0.142145  , 0.06200031, 0.01089241, 0.1348558 ],\n",
       "       [0.02741346, 0.02627699, 0.07143644, 0.11399237, 0.01328764,\n",
       "        0.02793863, 0.02401283, 0.17202699, 0.2840276 , 0.23958705],\n",
       "       [0.07567761, 0.10711993, 0.09394285, 0.26265374, 0.14574456,\n",
       "        0.11761326, 0.0473063 , 0.06424327, 0.03979379, 0.04590466],\n",
       "       [0.05561756, 0.07096008, 0.29601857, 0.0748095 , 0.05761694,\n",
       "        0.01766403, 0.01670849, 0.01361851, 0.35919124, 0.03779504]],\n",
       "      dtype=float32)>"
      ]
     },
     "execution_count": 9,
     "metadata": {},
     "output_type": "execute_result"
    }
   ],
   "source": [
    "b = tf.nn.softmax(a,axis=1)\n",
    "b"
   ]
  },
  {
   "cell_type": "code",
   "execution_count": 10,
   "metadata": {},
   "outputs": [
    {
     "data": {
      "text/plain": [
       "<tf.Tensor: shape=(4,), dtype=int64, numpy=array([3, 8, 3, 8])>"
      ]
     },
     "execution_count": 10,
     "metadata": {},
     "output_type": "execute_result"
    }
   ],
   "source": [
    "pred = tf.argmax(b,axis=1)\n",
    "pred"
   ]
  }
 ],
 "metadata": {
  "kernelspec": {
   "display_name": "Python 3",
   "language": "python",
   "name": "python3"
  },
  "language_info": {
   "codemirror_mode": {
    "name": "ipython",
    "version": 3
   },
   "file_extension": ".py",
   "mimetype": "text/x-python",
   "name": "python",
   "nbconvert_exporter": "python",
   "pygments_lexer": "ipython3",
   "version": "3.7.6"
  }
 },
 "nbformat": 4,
 "nbformat_minor": 4
}
